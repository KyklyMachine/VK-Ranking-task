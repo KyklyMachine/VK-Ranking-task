{
  "cells": [
    {
      "cell_type": "code",
      "execution_count": 31,
      "metadata": {
        "id": "Cn7Hl0kL4Dfk"
      },
      "outputs": [],
      "source": [
        "import numpy as np\n",
        "import pandas as pd\n",
        "from catboost import CatBoostRanker, Pool"
      ]
    },
    {
      "cell_type": "markdown",
      "metadata": {
        "id": "2YUDGQkpAbYO"
      },
      "source": [
        "# 1. Подготовка данных"
      ]
    },
    {
      "cell_type": "code",
      "execution_count": 32,
      "metadata": {
        "id": "5ioZwmr54I-G"
      },
      "outputs": [],
      "source": [
        "train_df = pd.read_csv(\"/content/drive/MyDrive/data/data/train_df.csv\")\n",
        "train_df = train_df.drop([\"feature_0\", \"feature_73\", \"feature_74\", \"feature_75\"], axis=1)\n",
        "test_df = pd.read_csv(\"/content/drive/MyDrive/data/data/test_df.csv\")\n",
        "test_df = test_df.drop([\"feature_0\", \"feature_73\", \"feature_74\", \"feature_75\"], axis=1)"
      ]
    },
    {
      "cell_type": "code",
      "execution_count": 33,
      "metadata": {
        "id": "5pIpkQA44mFr"
      },
      "outputs": [],
      "source": [
        "X_train = train_df.drop([\"search_id\", \"target\"], axis=1).values\n",
        "y_train = train_df[\"target\"].to_numpy(dtype=np.float32)\n",
        "queries_train = train_df[\"search_id\"].values\n",
        "\n",
        "X_test = test_df.drop([\"search_id\", \"target\"], axis=1).values\n",
        "y_test = test_df[\"target\"].to_numpy(dtype=np.float32)\n",
        "queries_test = test_df[\"search_id\"].values"
      ]
    },
    {
      "cell_type": "code",
      "execution_count": 34,
      "metadata": {
        "colab": {
          "base_uri": "https://localhost:8080/"
        },
        "id": "HkJluK-H4n99",
        "outputId": "59173335-b0da-480c-f3ef-155d7f1fa873"
      },
      "outputs": [
        {
          "data": {
            "text/plain": [
              "1000"
            ]
          },
          "execution_count": 34,
          "metadata": {},
          "output_type": "execute_result"
        }
      ],
      "source": [
        "num_queries = np.unique(queries_train).shape[0]\n",
        "num_queries"
      ]
    },
    {
      "cell_type": "code",
      "execution_count": 36,
      "metadata": {
        "id": "OUhOPURy4p6h"
      },
      "outputs": [],
      "source": [
        "train_pool = Pool(\n",
        "    data=X_train,\n",
        "    label=y_train,\n",
        "    group_id=queries_train\n",
        ")\n",
        "\n",
        "test_pool = Pool(\n",
        "    data=X_test,\n",
        "    label=y_test,\n",
        "    group_id=queries_test\n",
        ")"
      ]
    },
    {
      "cell_type": "markdown",
      "metadata": {
        "id": "R8UY-9_qAe-L"
      },
      "source": [
        "# 2. Выбор параметров модели\n",
        "\n",
        "Поскольку целевая переменная (target) является бинарной (например, клик по объекту), то целесообразно в качестве функции потерь для обучения ранжированию использовать **CrossEntropy** по каждой группе, т.к. данная функция потерь является обоснованной относительно MLE. Поскольку данные разбиты по группам (запросам), то подсчет CrossEntropy также стоит производить по группам (в catboost уже имеется реализация – **QueryCrossEntropy** [reference](https://catboost.ai/en/docs/references/querycrossentropy)).\n",
        "\n",
        "Обучение будет производится на GPU (Google Colab T4).\n",
        "\n",
        "Для поиска оптимальных параметров будем использовать значение функции потерь на тестовой выборке.\n",
        "\n"
      ]
    },
    {
      "cell_type": "code",
      "execution_count": 40,
      "metadata": {
        "colab": {
          "base_uri": "https://localhost:8080/"
        },
        "id": "auy0-Jka4rgG",
        "outputId": "f819c92f-35c2-4255-fa03-2c9d9520504c"
      },
      "outputs": [
        {
          "name": "stderr",
          "output_type": "stream",
          "text": [
            "Default metric period is 5 because QueryCrossEntropy is/are not implemented for GPU\n",
            "Default metric period is 5 because QueryCrossEntropy is/are not implemented for GPU\n"
          ]
        },
        {
          "name": "stdout",
          "output_type": "stream",
          "text": [
            "bestTest = 0.07049449518\n",
            "bestIteration = 99\n"
          ]
        },
        {
          "name": "stderr",
          "output_type": "stream",
          "text": [
            "Default metric period is 5 because QueryCrossEntropy is/are not implemented for GPU\n"
          ]
        },
        {
          "name": "stdout",
          "output_type": "stream",
          "text": [
            "bestTest = 0.0704510769\n",
            "bestIteration = 10\n"
          ]
        },
        {
          "name": "stderr",
          "output_type": "stream",
          "text": [
            "Default metric period is 5 because QueryCrossEntropy is/are not implemented for GPU\n"
          ]
        },
        {
          "name": "stdout",
          "output_type": "stream",
          "text": [
            "bestTest = 0.06948253087\n",
            "bestIteration = 10\n"
          ]
        },
        {
          "name": "stderr",
          "output_type": "stream",
          "text": [
            "Default metric period is 5 because QueryCrossEntropy is/are not implemented for GPU\n"
          ]
        },
        {
          "name": "stdout",
          "output_type": "stream",
          "text": [
            "bestTest = 0.07034676607\n",
            "bestIteration = 110\n"
          ]
        },
        {
          "name": "stderr",
          "output_type": "stream",
          "text": [
            "Default metric period is 5 because QueryCrossEntropy is/are not implemented for GPU\n"
          ]
        },
        {
          "name": "stdout",
          "output_type": "stream",
          "text": [
            "bestTest = 0.07045061343\n",
            "bestIteration = 10\n"
          ]
        },
        {
          "name": "stderr",
          "output_type": "stream",
          "text": [
            "Default metric period is 5 because QueryCrossEntropy is/are not implemented for GPU\n"
          ]
        },
        {
          "name": "stdout",
          "output_type": "stream",
          "text": [
            "bestTest = 0.06948218963\n",
            "bestIteration = 10\n"
          ]
        },
        {
          "name": "stderr",
          "output_type": "stream",
          "text": [
            "Default metric period is 5 because QueryCrossEntropy is/are not implemented for GPU\n"
          ]
        },
        {
          "name": "stdout",
          "output_type": "stream",
          "text": [
            "bestTest = 0.07034700035\n",
            "bestIteration = 110\n"
          ]
        },
        {
          "name": "stderr",
          "output_type": "stream",
          "text": [
            "Default metric period is 5 because QueryCrossEntropy is/are not implemented for GPU\n"
          ]
        },
        {
          "name": "stdout",
          "output_type": "stream",
          "text": [
            "bestTest = 0.07045118895\n",
            "bestIteration = 10\n"
          ]
        },
        {
          "name": "stderr",
          "output_type": "stream",
          "text": [
            "Default metric period is 5 because QueryCrossEntropy is/are not implemented for GPU\n"
          ]
        },
        {
          "name": "stdout",
          "output_type": "stream",
          "text": [
            "bestTest = 0.06948230168\n",
            "bestIteration = 10\n"
          ]
        },
        {
          "name": "stderr",
          "output_type": "stream",
          "text": [
            "Default metric period is 5 because QueryCrossEntropy is/are not implemented for GPU\n"
          ]
        },
        {
          "name": "stdout",
          "output_type": "stream",
          "text": [
            "bestTest = 0.07127408892\n",
            "bestIteration = 85\n"
          ]
        },
        {
          "name": "stderr",
          "output_type": "stream",
          "text": [
            "Default metric period is 5 because QueryCrossEntropy is/are not implemented for GPU\n"
          ]
        },
        {
          "name": "stdout",
          "output_type": "stream",
          "text": [
            "bestTest = 0.07174374997\n",
            "bestIteration = 10\n"
          ]
        },
        {
          "name": "stderr",
          "output_type": "stream",
          "text": [
            "Default metric period is 5 because QueryCrossEntropy is/are not implemented for GPU\n"
          ]
        },
        {
          "name": "stdout",
          "output_type": "stream",
          "text": [
            "bestTest = 0.07209742181\n",
            "bestIteration = 5\n"
          ]
        },
        {
          "name": "stderr",
          "output_type": "stream",
          "text": [
            "Default metric period is 5 because QueryCrossEntropy is/are not implemented for GPU\n"
          ]
        },
        {
          "name": "stdout",
          "output_type": "stream",
          "text": [
            "bestTest = 0.07127411439\n",
            "bestIteration = 85\n"
          ]
        },
        {
          "name": "stderr",
          "output_type": "stream",
          "text": [
            "Default metric period is 5 because QueryCrossEntropy is/are not implemented for GPU\n"
          ]
        },
        {
          "name": "stdout",
          "output_type": "stream",
          "text": [
            "bestTest = 0.07174373469\n",
            "bestIteration = 10\n"
          ]
        },
        {
          "name": "stderr",
          "output_type": "stream",
          "text": [
            "Default metric period is 5 because QueryCrossEntropy is/are not implemented for GPU\n"
          ]
        },
        {
          "name": "stdout",
          "output_type": "stream",
          "text": [
            "bestTest = 0.07209741671\n",
            "bestIteration = 5\n"
          ]
        },
        {
          "name": "stderr",
          "output_type": "stream",
          "text": [
            "Default metric period is 5 because QueryCrossEntropy is/are not implemented for GPU\n"
          ]
        },
        {
          "name": "stdout",
          "output_type": "stream",
          "text": [
            "bestTest = 0.07127403799\n",
            "bestIteration = 85\n"
          ]
        },
        {
          "name": "stderr",
          "output_type": "stream",
          "text": [
            "Default metric period is 5 because QueryCrossEntropy is/are not implemented for GPU\n"
          ]
        },
        {
          "name": "stdout",
          "output_type": "stream",
          "text": [
            "bestTest = 0.07174374997\n",
            "bestIteration = 10\n"
          ]
        },
        {
          "name": "stderr",
          "output_type": "stream",
          "text": [
            "Default metric period is 5 because QueryCrossEntropy is/are not implemented for GPU\n"
          ]
        },
        {
          "name": "stdout",
          "output_type": "stream",
          "text": [
            "bestTest = 0.07209742181\n",
            "bestIteration = 5\n"
          ]
        },
        {
          "name": "stderr",
          "output_type": "stream",
          "text": [
            "Default metric period is 5 because QueryCrossEntropy is/are not implemented for GPU\n"
          ]
        },
        {
          "name": "stdout",
          "output_type": "stream",
          "text": [
            "bestTest = 0.07206541706\n",
            "bestIteration = 45\n"
          ]
        },
        {
          "name": "stderr",
          "output_type": "stream",
          "text": [
            "Default metric period is 5 because QueryCrossEntropy is/are not implemented for GPU\n"
          ]
        },
        {
          "name": "stdout",
          "output_type": "stream",
          "text": [
            "bestTest = 0.07418391861\n",
            "bestIteration = 5\n"
          ]
        },
        {
          "name": "stderr",
          "output_type": "stream",
          "text": [
            "Default metric period is 5 because QueryCrossEntropy is/are not implemented for GPU\n"
          ]
        },
        {
          "name": "stdout",
          "output_type": "stream",
          "text": [
            "bestTest = 0.07458231764\n",
            "bestIteration = 5\n"
          ]
        },
        {
          "name": "stderr",
          "output_type": "stream",
          "text": [
            "Default metric period is 5 because QueryCrossEntropy is/are not implemented for GPU\n"
          ]
        },
        {
          "name": "stdout",
          "output_type": "stream",
          "text": [
            "bestTest = 0.07206541706\n",
            "bestIteration = 45\n"
          ]
        },
        {
          "name": "stderr",
          "output_type": "stream",
          "text": [
            "Default metric period is 5 because QueryCrossEntropy is/are not implemented for GPU\n"
          ]
        },
        {
          "name": "stdout",
          "output_type": "stream",
          "text": [
            "bestTest = 0.07418391351\n",
            "bestIteration = 5\n"
          ]
        },
        {
          "name": "stderr",
          "output_type": "stream",
          "text": [
            "Default metric period is 5 because QueryCrossEntropy is/are not implemented for GPU\n"
          ]
        },
        {
          "name": "stdout",
          "output_type": "stream",
          "text": [
            "bestTest = 0.07458231255\n",
            "bestIteration = 5\n"
          ]
        },
        {
          "name": "stderr",
          "output_type": "stream",
          "text": [
            "Default metric period is 5 because QueryCrossEntropy is/are not implemented for GPU\n"
          ]
        },
        {
          "name": "stdout",
          "output_type": "stream",
          "text": [
            "bestTest = 0.07206542215\n",
            "bestIteration = 45\n"
          ]
        },
        {
          "name": "stderr",
          "output_type": "stream",
          "text": [
            "Default metric period is 5 because QueryCrossEntropy is/are not implemented for GPU\n"
          ]
        },
        {
          "name": "stdout",
          "output_type": "stream",
          "text": [
            "bestTest = 0.07418391351\n",
            "bestIteration = 5\n"
          ]
        },
        {
          "name": "stderr",
          "output_type": "stream",
          "text": [
            "Default metric period is 5 because QueryCrossEntropy is/are not implemented for GPU\n"
          ]
        },
        {
          "name": "stdout",
          "output_type": "stream",
          "text": [
            "bestTest = 0.07458230746\n",
            "bestIteration = 5\n"
          ]
        },
        {
          "name": "stderr",
          "output_type": "stream",
          "text": [
            "Default metric period is 5 because QueryCrossEntropy is/are not implemented for GPU\n"
          ]
        },
        {
          "name": "stdout",
          "output_type": "stream",
          "text": [
            "Training on fold [0/5]\n",
            "bestTest = 0.05717346856\n",
            "bestIteration = 5\n",
            "Training on fold [1/5]\n",
            "bestTest = 0.0702573542\n",
            "bestIteration = 5\n",
            "Training on fold [2/5]\n",
            "bestTest = 0.06768926616\n",
            "bestIteration = 5\n",
            "Training on fold [3/5]\n",
            "bestTest = 0.07369067354\n",
            "bestIteration = 20\n",
            "Training on fold [4/5]\n",
            "bestTest = 0.06889054609\n",
            "bestIteration = 10\n"
          ]
        },
        {
          "name": "stderr",
          "output_type": "stream",
          "text": [
            "Default metric period is 5 because QueryCrossEntropy is/are not implemented for GPU\n"
          ]
        }
      ],
      "source": [
        "parameters = {\n",
        "    'loss_function': \"QueryCrossEntropy\",\n",
        "    'task_type': \"GPU\",\n",
        "    'verbose': False\n",
        "    }\n",
        "\n",
        "params_to_gridsearch = {\n",
        "    'depth': [2, 4, 6],\n",
        "    'iterations': [100, 250, 500],\n",
        "    'learning_rate': [0.05, 0.2, 0.3],\n",
        "    }\n",
        "\n",
        "\n",
        "model = CatBoostRanker(**parameters)\n",
        "grid_search_result = model.grid_search(params_to_gridsearch, X=train_pool, cv=5, verbose=False)"
      ]
    },
    {
      "cell_type": "code",
      "execution_count": 47,
      "metadata": {
        "colab": {
          "base_uri": "https://localhost:8080/"
        },
        "id": "MOz91Ja94uaa",
        "outputId": "f6f8057d-3af1-4f9f-f059-2f08a33dd08a"
      },
      "outputs": [
        {
          "data": {
            "text/plain": [
              "{'depth': 2, 'learning_rate': 0.3, 'iterations': 250}"
            ]
          },
          "execution_count": 47,
          "metadata": {},
          "output_type": "execute_result"
        }
      ],
      "source": [
        "best_params = grid_search_result[\"params\"]\n",
        "best_params"
      ]
    },
    {
      "cell_type": "markdown",
      "metadata": {
        "id": "0pSL2P_4AkQJ"
      },
      "source": [
        "# 3. Обучение базовой модели"
      ]
    },
    {
      "cell_type": "code",
      "execution_count": 48,
      "metadata": {
        "colab": {
          "base_uri": "https://localhost:8080/"
        },
        "id": "etBvbNnX737p",
        "outputId": "8ef5f75f-fb9b-466d-884c-9c56886489de"
      },
      "outputs": [
        {
          "name": "stderr",
          "output_type": "stream",
          "text": [
            "Default metric period is 5 because QueryCrossEntropy, NDCG is/are not implemented for GPU\n",
            "Metric NDCG:type=Base is not implemented on GPU. Will use CPU for metric computation, this could significantly affect learning time\n"
          ]
        },
        {
          "data": {
            "text/plain": [
              "<catboost.core.CatBoostRanker at 0x7c59c0bb7a90>"
            ]
          },
          "execution_count": 48,
          "metadata": {},
          "output_type": "execute_result"
        }
      ],
      "source": [
        "final_parameters = dict(parameters)\n",
        "final_parameters.update(best_params)\n",
        "final_parameters['custom_metric'] = 'NDCG'\n",
        "model = CatBoostRanker(**final_parameters)\n",
        "model.fit(train_pool, eval_set=test_pool, verbose=False, plot=False)"
      ]
    },
    {
      "cell_type": "code",
      "execution_count": 49,
      "metadata": {
        "colab": {
          "base_uri": "https://localhost:8080/"
        },
        "id": "3kYLdHj9-uKY",
        "outputId": "c35ca199-38aa-46bd-80ca-d09965fb5a2d"
      },
      "outputs": [
        {
          "data": {
            "text/plain": [
              "{'learn': {'QueryCrossEntropy': 0.04377642468948926},\n",
              " 'validation': {'QueryCrossEntropy': 0.05834585705015533,\n",
              "  'NDCG:type=Base': 0.9335375740060166}}"
            ]
          },
          "execution_count": 49,
          "metadata": {},
          "output_type": "execute_result"
        }
      ],
      "source": [
        "model.best_score_"
      ]
    },
    {
      "cell_type": "code",
      "execution_count": 53,
      "metadata": {
        "colab": {
          "base_uri": "https://localhost:8080/"
        },
        "id": "xPlIwLnt_YA8",
        "outputId": "ecc14457-2720-4914-df53-af024493c98f"
      },
      "outputs": [
        {
          "name": "stdout",
          "output_type": "stream",
          "text": [
            "NDCG: 0.9335375740060166\n"
          ]
        }
      ],
      "source": [
        "print(f\"NDCG: {model.best_score_['validation']['NDCG:type=Base']}\")"
      ]
    },
    {
      "cell_type": "markdown",
      "metadata": {},
      "source": [
        "## Получаем NDCG $\\approx$ 0.9335"
      ]
    },
    {
      "cell_type": "code",
      "execution_count": null,
      "metadata": {
        "id": "bjR6lWEkGct5"
      },
      "outputs": [],
      "source": []
    }
  ],
  "metadata": {
    "accelerator": "GPU",
    "colab": {
      "gpuType": "T4",
      "provenance": []
    },
    "kernelspec": {
      "display_name": "Python 3",
      "name": "python3"
    },
    "language_info": {
      "name": "python",
      "version": "3.12.0"
    }
  },
  "nbformat": 4,
  "nbformat_minor": 0
}
