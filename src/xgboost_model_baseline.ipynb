{
 "cells": [
  {
   "cell_type": "code",
   "execution_count": 2,
   "metadata": {},
   "outputs": [],
   "source": [
    "import numpy as np\n",
    "import pandas as pd\n",
    "import matplotlib.pyplot as plt\n",
    "import seaborn as sns\n",
    "import xgboost as xgb"
   ]
  },
  {
   "cell_type": "markdown",
   "metadata": {},
   "source": [
    "# 1. Подготовка данных"
   ]
  },
  {
   "cell_type": "code",
   "execution_count": 3,
   "metadata": {},
   "outputs": [],
   "source": [
    "to_drop = ['feature_3', 'feature_12', 'feature_53', 'feature_65', 'feature_71', 'feature_77',\n",
    "           'feature_0', 'feature_73', 'feature_74', 'feature_75']\n",
    "\n",
    "train_df = pd.read_csv(\"../data/train_df.csv\")\n",
    "train_df = train_df.drop(to_drop, axis=1)\n",
    "test_df = pd.read_csv(\"../data/test_df.csv\")\n",
    "test_df = test_df.drop(to_drop, axis=1)"
   ]
  },
  {
   "cell_type": "code",
   "execution_count": 4,
   "metadata": {},
   "outputs": [],
   "source": [
    "X_train = train_df.drop([\"search_id\", \"target\"], axis=1).values\n",
    "y_train = train_df[\"target\"].to_numpy(dtype=np.float32)\n",
    "queries_train = train_df[\"search_id\"].values\n",
    "\n",
    "sorted_idx = np.argsort(queries_train)\n",
    "X_train = X_train[sorted_idx, :]\n",
    "y_train = y_train[sorted_idx]\n",
    "queries_train = queries_train[sorted_idx]\n",
    "\n",
    "\n",
    "X_test = test_df.drop([\"search_id\", \"target\"], axis=1).values\n",
    "y_test = test_df[\"target\"].to_numpy(dtype=np.float32)\n",
    "queries_test = test_df[\"search_id\"].values\n",
    "\n",
    "sorted_idx = np.argsort(queries_test)\n",
    "X_test = X_test[sorted_idx, :]\n",
    "y_test = y_test[sorted_idx]\n",
    "queries_test = queries_test[sorted_idx]"
   ]
  },
  {
   "cell_type": "markdown",
   "metadata": {},
   "source": [
    "# 2. Выбор параметров модели\n",
    "\n",
    "Обучение XGBRanker будет производится на NPU. \n",
    "Параметр tree_method=\"exact\", поскольку датасет небольшой и временные затраты на полный подсчет Гессиана на каждой итерации не существены [ref](https://arxiv.org/abs/1603.02754).\n",
    "\n",
    "Для бейзлайна используем параметры дерева: 'max_depth': 2, для \"надежности\" алгоритма."
   ]
  },
  {
   "cell_type": "markdown",
   "metadata": {},
   "source": [
    "# 3. Обучение модели\n",
    "\n",
    "Будем обучать модель на подвыборках из StratifiedKFold. Разбиваем данные на тренировочные и валидационные. Далее обучаем модель, с помощью валидационной выборки пытаемся выбирать оптимальную итерацию, после чего считаем ndcg на тестовой выборке.\n",
    "\n",
    "Таким образом получим статистические свойства полученного алгоритма ранжирования."
   ]
  },
  {
   "cell_type": "code",
   "execution_count": null,
   "metadata": {},
   "outputs": [],
   "source": [
    "from sklearn.model_selection import StratifiedKFold\n",
    "\n",
    "params = {'objective': 'rank:ndcg', \n",
    "          'learning_rate': 0.2,\n",
    "          'max_depth': 2, \n",
    "          'n_estimators': 50,\n",
    "          'lambdarank_num_pair_per_sample': 4, \n",
    "          \"tree_method\": \"exact\",\n",
    "          \"lambdarank_pair_method\": \"topk\", \n",
    "          \"eval_metric\": [\"ndcg@10000\"]\n",
    "          }\n",
    "\n",
    "scores_list = []\n",
    "\n",
    "for j in range(10):\n",
    "    kf = StratifiedKFold(n_splits=5, shuffle=True)\n",
    "    for i, (train_index, val_index) in enumerate(kf.split(X_train, queries_train)):\n",
    "        x_train_kf = X_train[train_index]\n",
    "        y_train_kf = y_train[train_index]\n",
    "        queries_train_kf = queries_train[train_index]\n",
    "\n",
    "        x_val_kf = X_train[val_index]\n",
    "        y_val_kf = y_train[val_index]\n",
    "        queries_val_kf = queries_train[val_index]\n",
    "        \n",
    "        ranker = xgb.XGBRanker(**params)\n",
    "        ranker.fit(x_train_kf, y_train_kf, qid=queries_train_kf, eval_set=[(x_val_kf, y_val_kf)], eval_qid=[queries_val_kf], early_stopping_rounds=10)\n",
    "\n",
    "        scores_list.append(ranker.score(X_test, y_test))"
   ]
  },
  {
   "cell_type": "code",
   "execution_count": 185,
   "metadata": {},
   "outputs": [
    {
     "name": "stdout",
     "output_type": "stream",
     "text": [
      "Среднее значение NDCG: 0.5245368438678761\n"
     ]
    },
    {
     "data": {
      "text/plain": [
       "Text(0.5, 0, 'NDCG')"
      ]
     },
     "execution_count": 185,
     "metadata": {},
     "output_type": "execute_result"
    },
    {
     "data": {
      "image/png": "[encoded data removed]",
      "text/plain": [
       "<Figure size 640x480 with 1 Axes>"
      ]
     },
     "metadata": {},
     "output_type": "display_data"
    }
   ],
   "source": [
    "print(f\"Среднее значение NDCG: {np.mean(scores_list)}\")\n",
    "sns.histplot(scores_list)\n",
    "plt.title(\"Результаты работы алгоритма на тестовой выборке\")\n",
    "plt.xlabel(\"NDCG\")"
   ]
  },
  {
   "cell_type": "markdown",
   "metadata": {},
   "source": [
    "## Получаем $\\text{NDCG}\\approx$ 0.5245"
   ]
  },
  {
   "cell_type": "markdown",
   "metadata": {},
   "source": []
  }
 ],
 "metadata": {
  "kernelspec": {
   "display_name": ".venv",
   "language": "python",
   "name": "python3"
  },
  "language_info": {
   "codemirror_mode": {
    "name": "ipython",
    "version": 3
   },
   "file_extension": ".py",
   "mimetype": "text/x-python",
   "name": "python",
   "nbconvert_exporter": "python",
   "pygments_lexer": "ipython3",
   "version": "3.12.0"
  }
 },
 "nbformat": 4,
 "nbformat_minor": 2
}
