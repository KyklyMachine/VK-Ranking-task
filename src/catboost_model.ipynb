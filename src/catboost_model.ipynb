{
  "nbformat": 4,
  "nbformat_minor": 0,
  "metadata": {
    "colab": {
      "provenance": [],
      "gpuType": "T4"
    },
    "kernelspec": {
      "name": "python3",
      "display_name": "Python 3"
    },
    "language_info": {
      "name": "python"
    },
    "accelerator": "GPU"
  },
  "cells": [
    {
      "cell_type": "code",
      "source": [
        "!pip install catboost"
      ],
      "metadata": {
        "id": "AE6ddVSA4GnJ"
      },
      "execution_count": null,
      "outputs": []
    },
    {
      "cell_type": "code",
      "execution_count": 4,
      "metadata": {
        "id": "Cn7Hl0kL4Dfk"
      },
      "outputs": [],
      "source": [
        "import numpy as np\n",
        "import pandas as pd\n",
        "import matplotlib.pyplot as plt\n",
        "import seaborn as sns\n",
        "from catboost import CatBoostRanker, Pool"
      ]
    },
    {
      "cell_type": "markdown",
      "source": [
        "# 1. Подготовка данных"
      ],
      "metadata": {
        "id": "2YUDGQkpAbYO"
      }
    },
    {
      "cell_type": "code",
      "source": [
        "to_drop = ['feature_3', 'feature_12', 'feature_53', 'feature_65', 'feature_71', 'feature_77',\n",
        "           'feature_0', 'feature_73', 'feature_74', 'feature_75']\n",
        "\n",
        "train_df = pd.read_csv(\"/content/drive/MyDrive/data/data/train_df.csv\")\n",
        "train_df = train_df.drop(to_drop, axis=1)\n",
        "test_df = pd.read_csv(\"/content/drive/MyDrive/data/data/test_df.csv\")\n",
        "test_df = test_df.drop(to_drop, axis=1)"
      ],
      "metadata": {
        "id": "5ioZwmr54I-G"
      },
      "execution_count": 5,
      "outputs": []
    },
    {
      "cell_type": "code",
      "source": [
        "X_train = train_df.drop([\"search_id\", \"target\"], axis=1).values\n",
        "y_train = train_df[\"target\"].to_numpy(dtype=np.float32)\n",
        "queries_train = train_df[\"search_id\"].values\n",
        "\n",
        "X_test = test_df.drop([\"search_id\", \"target\"], axis=1).values\n",
        "y_test = test_df[\"target\"].to_numpy(dtype=np.float32)\n",
        "queries_test = test_df[\"search_id\"].values"
      ],
      "metadata": {
        "id": "5pIpkQA44mFr"
      },
      "execution_count": 6,
      "outputs": []
    },
    {
      "cell_type": "code",
      "source": [
        "num_queries = np.unique(queries_train).shape[0]\n",
        "num_queries"
      ],
      "metadata": {
        "colab": {
          "base_uri": "https://localhost:8080/"
        },
        "id": "HkJluK-H4n99",
        "outputId": "085963f8-35df-4522-cfb0-d16010dbcb7a"
      },
      "execution_count": 7,
      "outputs": [
        {
          "output_type": "execute_result",
          "data": {
            "text/plain": [
              "1000"
            ]
          },
          "metadata": {},
          "execution_count": 7
        }
      ]
    },
    {
      "cell_type": "code",
      "source": [
        "train_pool = Pool(\n",
        "    data=X_train,\n",
        "    label=y_train,\n",
        "    group_id=queries_train\n",
        ")\n",
        "\n",
        "test_pool = Pool(\n",
        "    data=X_test,\n",
        "    label=y_test,\n",
        "    group_id=queries_test\n",
        ")"
      ],
      "metadata": {
        "id": "OUhOPURy4p6h"
      },
      "execution_count": 8,
      "outputs": []
    },
    {
      "cell_type": "markdown",
      "source": [
        "# 2. Выбор параметров модели\n",
        "\n",
        "Поскольку целевая переменная (target) является бинарной (например, клик по объекту), то целесообразно в качестве функции потерь для обучения ранжированию использовать **CrossEntropy** по каждой группе, т.к. данная функция потерь является обоснованной относительно MLE. Поскольку данные разбиты по группам (запросам), то подсчет CrossEntropy также стоит производить по группам (в catboost уже имеется реализация – **QueryCrossEntropy** [reference](https://catboost.ai/en/docs/references/querycrossentropy)).\n",
        "\n",
        "Обучение будет производится на GPU (Google Colab T4).\n",
        "\n",
        "Для поиска оптимальных параметров будем использовать значение функции потерь на тестовой выборке.\n",
        "\n"
      ],
      "metadata": {
        "id": "R8UY-9_qAe-L"
      }
    },
    {
      "cell_type": "code",
      "source": [
        "parameters = {\n",
        "    'loss_function': \"QueryCrossEntropy\",\n",
        "    'task_type': \"GPU\",\n",
        "    'verbose': False\n",
        "    }\n",
        "\n",
        "params_to_gridsearch = {\n",
        "    'depth': [2, 4, 6],\n",
        "    'iterations': [100, 250, 500],\n",
        "    'learning_rate': [0.05, 0.2, 0.3],\n",
        "    }\n",
        "\n",
        "\n",
        "model = CatBoostRanker(**parameters)\n",
        "grid_search_result = model.grid_search(params_to_gridsearch, X=train_pool, cv=5, verbose=False)"
      ],
      "metadata": {
        "id": "auy0-Jka4rgG"
      },
      "execution_count": null,
      "outputs": []
    },
    {
      "cell_type": "code",
      "source": [
        "best_params = grid_search_result[\"params\"]\n",
        "best_params"
      ],
      "metadata": {
        "colab": {
          "base_uri": "https://localhost:8080/"
        },
        "id": "MOz91Ja94uaa",
        "outputId": "7ffdbdd8-7929-41e5-922b-905d646ae308"
      },
      "execution_count": 10,
      "outputs": [
        {
          "output_type": "execute_result",
          "data": {
            "text/plain": [
              "{'depth': 2, 'learning_rate': 0.2, 'iterations': 250}"
            ]
          },
          "metadata": {},
          "execution_count": 10
        }
      ]
    },
    {
      "cell_type": "markdown",
      "source": [
        "# 3. Обучение базовой модели"
      ],
      "metadata": {
        "id": "0pSL2P_4AkQJ"
      }
    },
    {
      "cell_type": "code",
      "source": [
        "from sklearn.model_selection import StratifiedKFold\n",
        "\n",
        "\n",
        "final_parameters = dict(parameters)\n",
        "final_parameters.update(best_params)\n",
        "final_parameters['custom_metric'] = 'NDCG'\n",
        "\n",
        "scores_list = []\n",
        "\n",
        "for j in range(10):\n",
        "    kf = StratifiedKFold(n_splits=5, shuffle=True)\n",
        "    for i, (train_index, val_index) in enumerate(kf.split(X_train, queries_train)):\n",
        "\n",
        "        train_pool = Pool(\n",
        "            data=X_train[train_index],\n",
        "            label=y_train[train_index],\n",
        "            group_id=queries_train[train_index]\n",
        "        )\n",
        "\n",
        "        eval_pool = Pool(\n",
        "            data=X_train[val_index],\n",
        "            label=y_train[val_index],\n",
        "            group_id=queries_train[val_index]\n",
        "        )\n",
        "\n",
        "        model = CatBoostRanker(**final_parameters)\n",
        "        model.fit(train_pool, eval_set=eval_pool, verbose=False, plot=False)\n",
        "\n",
        "        scores_list.append(model.score(test_pool))\n",
        "\n"
      ],
      "metadata": {
        "id": "6MQdA7YNH7Qu"
      },
      "execution_count": null,
      "outputs": []
    },
    {
      "cell_type": "code",
      "source": [
        "print(f\"Среднее значение NDCG: {np.mean(scores_list)}\")\n",
        "sns.histplot(scores_list)\n",
        "plt.title(\"Результаты работы алгоритма на тестовой выборке\")\n",
        "plt.xlabel(\"NDCG\")"
      ],
      "metadata": {
        "colab": {
          "base_uri": "https://localhost:8080/",
          "height": 506
        },
        "id": "etBvbNnX737p",
        "outputId": "5c66caa2-4d98-4d3b-be4b-c419721d875e"
      },
      "execution_count": 16,
      "outputs": [
        {
          "output_type": "stream",
          "name": "stdout",
          "text": [
            "Среднее значение NDCG: 0.9152735015066378\n"
          ]
        },
        {
          "output_type": "execute_result",
          "data": {
            "text/plain": [
              "Text(0.5, 0, 'NDCG')"
            ]
          },
          "metadata": {},
          "execution_count": 16
        },
        {
          "output_type": "display_data",
          "data": {
            "text/plain": [
              "<Figure size 640x480 with 1 Axes>"
            ],
            "image/png": "[encoded data removed]"
          },
          "metadata": {}
        }
      ]
    },
    {
      "cell_type": "markdown",
      "source": [
        "## Получаем $\\text{NDCG}\\approx$ 0.9153"
      ],
      "metadata": {
        "id": "rHzEBO6nJY1a"
      }
    },
    {
      "cell_type": "code",
      "source": [],
      "metadata": {
        "id": "_W1FX5JcJbc1"
      },
      "execution_count": null,
      "outputs": []
    }
  ]
}